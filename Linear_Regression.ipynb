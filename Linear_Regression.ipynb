{
  "nbformat": 4,
  "nbformat_minor": 0,
  "metadata": {
    "colab": {
      "name": "Linear Regression.ipynb",
      "provenance": [],
      "collapsed_sections": [],
      "authorship_tag": "ABX9TyP91nSebZwv5ZWAGmVjy4wH",
      "include_colab_link": true
    },
    "kernelspec": {
      "name": "python3",
      "display_name": "Python 3"
    },
    "language_info": {
      "name": "python"
    }
  },
  "cells": [
    {
      "cell_type": "markdown",
      "metadata": {
        "id": "view-in-github",
        "colab_type": "text"
      },
      "source": [
        "<a href=\"https://colab.research.google.com/github/Yusra12/MachineLearning/blob/main/Linear_Regression.ipynb\" target=\"_parent\"><img src=\"https://colab.research.google.com/assets/colab-badge.svg\" alt=\"Open In Colab\"/></a>"
      ]
    },
    {
      "cell_type": "code",
      "metadata": {
        "id": "I8slfY1lo31F"
      },
      "source": [
        "import numpy as np\n",
        "from sklearn.linear_model import LinearRegression\n",
        "from sklearn.metrics import mean_squared_error\n",
        "import matplotlib.pyplot as plt"
      ],
      "execution_count": null,
      "outputs": []
    },
    {
      "cell_type": "markdown",
      "metadata": {
        "id": "gp1wCxs30FrQ"
      },
      "source": [
        "the office sizes range at around 30 sq ft and the scale by 20\n"
      ]
    },
    {
      "cell_type": "code",
      "metadata": {
        "colab": {
          "base_uri": "https://localhost:8080/"
        },
        "id": "e7HxWBq5pBxd",
        "outputId": "5af0f3ca-42e3-4e64-f6f1-c33913052a67"
      },
      "source": [
        "x=np.random.normal(loc=30.0, scale=20.0, size=100)\n",
        "x"
      ],
      "execution_count": null,
      "outputs": [
        {
          "output_type": "execute_result",
          "data": {
            "text/plain": [
              "array([ 52.10623501,  33.67440253,  17.33799636,  11.31009693,\n",
              "        51.01851651,  66.21034393,  59.58377351,  15.98018327,\n",
              "        35.37130482,  48.33535145,  -5.04103731,  39.02812705,\n",
              "        88.82577497,  49.52790752,  43.5887112 ,  -4.45151292,\n",
              "        21.50006838,  52.30127214,  47.96555717,  15.00297739,\n",
              "        44.20932116,  37.87175876,  61.40556663, -25.97570831,\n",
              "        65.49339035,  13.4553244 ,  15.34798628,  16.76101882,\n",
              "        26.49561771,  28.70635723,  32.7841631 ,  -8.13994216,\n",
              "        31.72887475,  24.55065823,  30.24198817,  35.69132007,\n",
              "        49.69154058,  18.50439609,  24.74030597,  39.47437233,\n",
              "        24.44988329,  43.64481324,  21.82063119,  19.65786438,\n",
              "         6.05231151,  16.15977643,  85.82351793,  35.27635844,\n",
              "        -1.13631152,  51.20841653,  39.86777661,  29.68403806,\n",
              "        33.52466003,  51.06594173,  59.94811466,  17.87883964,\n",
              "        33.92995502,  19.49488138,  27.19371847,  42.53783763,\n",
              "         9.56589921,  36.72122316,  73.28215578,  51.29691179,\n",
              "         5.74736499,  30.39429366, -30.39332763,  29.27856978,\n",
              "        53.06870676,   9.22823408,  20.28307527,   7.36196738,\n",
              "        30.19466534,  36.37930123,  22.12665314,  33.32015072,\n",
              "        67.22688875,  -3.6932529 ,  87.90120742,  18.81733668,\n",
              "       -18.21830682,  -3.47937872,  31.65704503,  34.32963595,\n",
              "        -1.79290453,  25.41091836,  28.58258772,  25.20509855,\n",
              "        54.15913735,  30.44936201,  63.72918821,  78.92029362,\n",
              "        34.73106474,  31.99150758,  -4.44883751,  27.36817753,\n",
              "        28.56285195,   3.98123835,  34.94816339,  20.81253118])"
            ]
          },
          "metadata": {
            "tags": []
          },
          "execution_count": 21
        }
      ]
    },
    {
      "cell_type": "code",
      "metadata": {
        "id": "0UfXnZTjpJmj"
      },
      "source": [
        "y=x*np.random.normal(loc=100.0, scale=50.0,size=100)"
      ],
      "execution_count": null,
      "outputs": []
    },
    {
      "cell_type": "code",
      "metadata": {
        "colab": {
          "base_uri": "https://localhost:8080/",
          "height": 295
        },
        "id": "Mn31fNSgpPTm",
        "outputId": "b6e7f38f-3a35-40ab-8577-e0d41bf31754"
      },
      "source": [
        "plt.scatter(x, y)\n",
        "plt.title(\"(1).Plot the values of x and y\")\n",
        "plt.xlabel(\"Office size\")\n",
        "plt.ylabel(\"Office price\")\n",
        "plt.show()"
      ],
      "execution_count": null,
      "outputs": [
        {
          "output_type": "display_data",
          "data": {
            "image/png": "[encoded data removed]",
            "text/plain": [
              "<Figure size 432x288 with 1 Axes>"
            ]
          },
          "metadata": {
            "tags": [],
            "needs_background": "light"
          }
        }
      ]
    },
    {
      "cell_type": "code",
      "metadata": {
        "id": "iEW931jlqOru"
      },
      "source": [
        "class RegressionCalculator:\n",
        "    def y_hat_values(x):\n",
        "      m=10\n",
        "      c=2\n",
        "      N = len(x)\n",
        "      y_hat_values=[]\n",
        "      for _ in range(N):\n",
        "        y_hat=m*x + c\n",
        "        y_hat_values.append(y_hat)\n",
        "        break\n",
        "      return y_hat_values\n",
        "\n",
        "    def error_values(y,y_hat):\n",
        "      N = len(y)\n",
        "      error_values=[]\n",
        "      for _ in range(N):\n",
        "        error= (y-y_hat) ** 2\n",
        "        error_values.append(error)\n",
        "        break\n",
        "      return error_values\n",
        "\n",
        "    def meansquared_error(error):\n",
        "      sum=0\n",
        "      N = len(error)\n",
        "      for i in range(0,N):\n",
        "        sum = sum + error[i]\n",
        "      return sum/N\n",
        "\n",
        "    def gradient_descent(x, y, lr=0.001, epoch=100):\n",
        "      m=10\n",
        "      c=2\n",
        "      all_m_and_c, mse = [], []\n",
        "      N = len(x) \n",
        "    \n",
        "      for _ in range(epoch):\n",
        "        y_hat= m*x + c      \n",
        "        f = y - y_hat\n",
        "\n",
        "        # Updating m and b\n",
        "        m -= lr * (-2 * x.dot(f).sum() / N)\n",
        "        c -= lr * (-2 * f.sum() / N)\n",
        "        \n",
        "        all_m_and_c.append((m, c))\n",
        "        mse.append(mean_squared_error(y, (m*x + c)))        \n",
        "        \n",
        "      return m, c, all_m_and_c, mse\n",
        "\n",
        "    \n",
        "  \n"
      ],
      "execution_count": null,
      "outputs": []
    },
    {
      "cell_type": "code",
      "metadata": {
        "id": "gG-PzIMiqYhV"
      },
      "source": [
        "m,c,all_m_and_c,mse=RegressionCalculator.gradient_descent(x,y)"
      ],
      "execution_count": null,
      "outputs": []
    },
    {
      "cell_type": "code",
      "metadata": {
        "colab": {
          "base_uri": "https://localhost:8080/"
        },
        "id": "u5N_LBiqqc78",
        "outputId": "393e37a6-ccfb-4a1f-deff-41ff8bf4735a"
      },
      "source": [
        "mse"
      ],
      "execution_count": null,
      "outputs": [
        {
          "output_type": "execute_result",
          "data": {
            "text/plain": [
              "[47195110.474730395,\n",
              " 172667481.57367992,\n",
              " 653432974.153884,\n",
              " 2495555255.714188,\n",
              " 9553912231.629416,\n",
              " 36599024044.31781,\n",
              " 140226266898.4037,\n",
              " 537288979529.36053,\n",
              " 2058691975621.9446,\n",
              " 7888166773585.84,\n",
              " 30224639428940.145,\n",
              " 115810052862285.64,\n",
              " 443742896403692.3,\n",
              " 1700264838158404.5,\n",
              " 6514809709787452.0,\n",
              " 2.496243211147765e+16,\n",
              " 9.564715545484792e+16,\n",
              " 3.664858578814017e+17,\n",
              " 1.4042433712802196e+18,\n",
              " 5.380560813975629e+18,\n",
              " 2.0616394041817e+19,\n",
              " 7.899468438003563e+19,\n",
              " 3.0267951551783364e+20,\n",
              " 1.1597601766893845e+21,\n",
              " 4.443788226413195e+21,\n",
              " 1.7027014893353617e+22,\n",
              " 6.524146098035242e+22,\n",
              " 2.4998205836492944e+23,\n",
              " 9.578422764503434e+23,\n",
              " 3.670110697369508e+24,\n",
              " 1.4062557961905102e+25,\n",
              " 5.388271709997155e+25,\n",
              " 2.064593945099189e+26,\n",
              " 7.910789187248474e+26,\n",
              " 3.031132863371875e+27,\n",
              " 1.161422232085628e+28,\n",
              " 4.450156631148877e+28,\n",
              " 1.7051416353719534e+29,\n",
              " 6.533495869174206e+29,\n",
              " 2.5034030831817029e+30,\n",
              " 9.592149627662923e+30,\n",
              " 3.675370342778943e+31,\n",
              " 1.4082711051151768e+32,\n",
              " 5.395993656527163e+32,\n",
              " 2.067552720177413e+33,\n",
              " 7.922126160289519e+33,\n",
              " 3.0354767879465884e+34,\n",
              " 1.1630866693778825e+35,\n",
              " 4.456534162462318e+35,\n",
              " 1.7075852783883178e+36,\n",
              " 6.542859039495053e+36,\n",
              " 2.506990716803723e+37,\n",
              " 9.605896162826535e+37,\n",
              " 3.68063752580021e+38,\n",
              " 1.410289302184428e+39,\n",
              " 5.403726669399284e+39,\n",
              " 2.0705157354840724e+40,\n",
              " 7.933479380376801e+40,\n",
              " 3.039826937811173e+41,\n",
              " 1.1647534919796522e+42,\n",
              " 4.4629208334328726e+42,\n",
              " 1.7100324233959992e+43,\n",
              " 6.552235628200228e+43,\n",
              " 2.5105834918730395e+44,\n",
              " 9.619662398186289e+44,\n",
              " 3.6859122572354925e+45,\n",
              " 1.4123103915372705e+46,\n",
              " 5.41147076447274e+46,\n",
              " 2.073482997095853e+47,\n",
              " 7.944848870794008e+47,\n",
              " 3.0441833218871015e+48,\n",
              " 1.1664227033093264e+49,\n",
              " 4.4693166571585806e+49,\n",
              " 1.7124830754136997e+50,\n",
              " 6.561625654519621e+50,\n",
              " 2.5141814157578673e+51,\n",
              " 9.633448361974568e+51,\n",
              " 3.6911945479024277e+52,\n",
              " 1.414334377318644e+53,\n",
              " 5.419225957629459e+53,\n",
              " 2.076454511098149e+54,\n",
              " 7.956234654858196e+54,\n",
              " 3.048545949108648e+55,\n",
              " 1.1680943067902002e+56,\n",
              " 4.475721646756297e+56,\n",
              " 1.7149372394673284e+57,\n",
              " 6.57102913771072e+57,\n",
              " 2.5177844958369905e+58,\n",
              " 9.647254082464251e+58,\n",
              " 3.696484408634181e+59,\n",
              " 1.4163612636794287e+60,\n",
              " 5.426992264774138e+60,\n",
              " 2.0794302835850758e+61,\n",
              " 7.967636755919841e+61,\n",
              " 3.0529148284228857e+62,\n",
              " 1.1697683058504754e+63,\n",
              " 4.482135815361666e+63,\n",
              " 1.7173949205900006e+64,\n",
              " 6.580446097058626e+64,\n",
              " 2.52139273949977e+65]"
            ]
          },
          "metadata": {
            "tags": []
          },
          "execution_count": 26
        }
      ]
    },
    {
      "cell_type": "code",
      "metadata": {
        "id": "vaqMCD3RqhLt"
      },
      "source": [
        "epoch=range(0,100)"
      ],
      "execution_count": null,
      "outputs": []
    },
    {
      "cell_type": "code",
      "metadata": {
        "colab": {
          "base_uri": "https://localhost:8080/",
          "height": 327
        },
        "id": "i5vYXkuvqnkV",
        "outputId": "9eb7c25e-0070-4f62-abf6-08d5f8691fe5"
      },
      "source": [
        "Y_Hat=RegressionCalculator.y_hat_values(x)\n",
        "for index in range(len(Y_Hat)):\n",
        "    all_y_hat=Y_Hat[index]\n",
        "    error=RegressionCalculator.error_values(y,all_y_hat)\n",
        "    for index in range(len(error)):\n",
        "        all_errors=error[index]\n",
        "        \n",
        "epoch=range(0,100)       \n",
        "plt.plot(epoch,all_errors)\n",
        "plt.title(\"Error Function\")\n",
        "plt.xlabel(\"Iteration number\")\n",
        "plt.ylabel(\"Error\")\n",
        "plt.legend()\n",
        "\n"
      ],
      "execution_count": null,
      "outputs": [
        {
          "output_type": "stream",
          "text": [
            "No handles with labels found to put in legend.\n"
          ],
          "name": "stderr"
        },
        {
          "output_type": "execute_result",
          "data": {
            "text/plain": [
              "<matplotlib.legend.Legend at 0x7f106aa43c90>"
            ]
          },
          "metadata": {
            "tags": []
          },
          "execution_count": 28
        },
        {
          "output_type": "display_data",
          "data": {
            "image/png": "[encoded data removed]",
            "text/plain": [
              "<Figure size 432x288 with 1 Axes>"
            ]
          },
          "metadata": {
            "tags": [],
            "needs_background": "light"
          }
        }
      ]
    },
    {
      "cell_type": "markdown",
      "metadata": {
        "id": "F9HjKNOoq_Ey"
      },
      "source": [
        "Train an intelligent linear regression model "
      ]
    },
    {
      "cell_type": "code",
      "metadata": {
        "id": "Swnc2VeZrAc_"
      },
      "source": [
        "model = LinearRegression(fit_intercept=True)\n",
        "model.fit(x[:, np.newaxis], y)\n",
        "\n",
        "xfit = np.linspace(0, 100, 100)\n",
        "yfit = model.predict(xfit[:, np.newaxis])"
      ],
      "execution_count": null,
      "outputs": []
    },
    {
      "cell_type": "markdown",
      "metadata": {
        "id": "havAKkZkrNFV"
      },
      "source": [
        "Plot the line of best fit"
      ]
    },
    {
      "cell_type": "code",
      "metadata": {
        "colab": {
          "base_uri": "https://localhost:8080/",
          "height": 311
        },
        "id": "VJQvia6drQaQ",
        "outputId": "59422382-4425-4500-e255-9ca16d600d19"
      },
      "source": [
        "plt.scatter(x, y,label='Data')\n",
        "plt.title(\"(2).Plot the line of best fit\")\n",
        "plt.xlabel(\"Office size\")\n",
        "plt.ylabel(\"Office price\")\n",
        "plt.plot(xfit, yfit,c='#CC5500',label='Regression');\n",
        "plt.legend()"
      ],
      "execution_count": null,
      "outputs": [
        {
          "output_type": "execute_result",
          "data": {
            "text/plain": [
              "<matplotlib.legend.Legend at 0x7f106aad6150>"
            ]
          },
          "metadata": {
            "tags": []
          },
          "execution_count": 30
        },
        {
          "output_type": "display_data",
          "data": {
            "image/png": "[encoded data removed]",
            "text/plain": [
              "<Figure size 432x288 with 1 Axes>"
            ]
          },
          "metadata": {
            "tags": [],
            "needs_background": "light"
          }
        }
      ]
    },
    {
      "cell_type": "markdown",
      "metadata": {
        "id": "Hr0ftjporaia"
      },
      "source": [
        "Predict"
      ]
    },
    {
      "cell_type": "code",
      "metadata": {
        "id": "oLF7s1R1rcn9"
      },
      "source": [
        "x1=100"
      ],
      "execution_count": null,
      "outputs": []
    },
    {
      "cell_type": "code",
      "metadata": {
        "id": "vBhXUTIirhh3"
      },
      "source": [
        "c1=model.intercept_"
      ],
      "execution_count": null,
      "outputs": []
    },
    {
      "cell_type": "code",
      "metadata": {
        "id": "JtEANoLnrlC1"
      },
      "source": [
        "m=model.coef_[0]"
      ],
      "execution_count": null,
      "outputs": []
    },
    {
      "cell_type": "code",
      "metadata": {
        "id": "mFsxNcpWrn7A"
      },
      "source": [
        "y1=m*x1+c1"
      ],
      "execution_count": null,
      "outputs": []
    },
    {
      "cell_type": "code",
      "metadata": {
        "colab": {
          "base_uri": "https://localhost:8080/"
        },
        "id": "Qnhl5eUMrq5v",
        "outputId": "b9ad515a-dd3e-456b-a192-eef2d20f62a4"
      },
      "source": [
        "y1"
      ],
      "execution_count": null,
      "outputs": [
        {
          "output_type": "execute_result",
          "data": {
            "text/plain": [
              "9708.606564436108"
            ]
          },
          "metadata": {
            "tags": []
          },
          "execution_count": 35
        }
      ]
    }
  ]
}